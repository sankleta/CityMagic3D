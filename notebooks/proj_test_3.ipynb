{
 "cells": [
  {
   "cell_type": "code",
   "execution_count": 1,
   "id": "daeceb45-4a2d-4609-bd28-6a786050b8cd",
   "metadata": {},
   "outputs": [],
   "source": [
    "import json\n",
    "\n",
    "from matplotlib import pyplot as plt\n",
    "import numpy as np"
   ]
  },
  {
   "cell_type": "code",
   "execution_count": 2,
   "id": "e27661d9-b36f-484c-9d09-6f704fbaa381",
   "metadata": {},
   "outputs": [],
   "source": [
    "np.set_printoptions(edgeitems=6, linewidth=100, \n",
    "    formatter=dict(float=lambda x: \"%.4g\" % x))"
   ]
  },
  {
   "cell_type": "code",
   "execution_count": 3,
   "id": "144a932a-a6b6-4a33-a5e7-8cdb9c9cb36f",
   "metadata": {},
   "outputs": [],
   "source": [
    "import sys\n",
    "\n",
    "sys.path.append(\"/home/papjuli/code/ETH/3DV_project/CityMagic3D\")"
   ]
  },
  {
   "cell_type": "code",
   "execution_count": 4,
   "id": "8f95123f-6006-4e2b-8df1-546153465fae",
   "metadata": {},
   "outputs": [],
   "source": [
    "from processing import BlocksExchange_xml_parser"
   ]
  },
  {
   "cell_type": "code",
   "execution_count": 5,
   "id": "afe51605-027f-4109-9218-d733017176ff",
   "metadata": {},
   "outputs": [
    {
     "name": "stdout",
     "output_type": "stream",
     "text": [
      "Jupyter environment detected. Enabling Open3D WebVisualizer.\n",
      "[Open3D INFO] WebRTC GUI backend enabled.\n",
      "[Open3D INFO] WebRTCWindowSystem: HTTP handshake server disabled.\n"
     ]
    }
   ],
   "source": [
    "import open3d as o3d"
   ]
  },
  {
   "cell_type": "code",
   "execution_count": 13,
   "id": "fbda7cfb-2409-451a-ba82-feac9b03a348",
   "metadata": {},
   "outputs": [],
   "source": [
    "from instance_masks_from_images.utils import get_extrinsic_matrix"
   ]
  },
  {
   "cell_type": "code",
   "execution_count": 6,
   "id": "c36265f4-2f72-4075-b6a2-59843a5f76bf",
   "metadata": {},
   "outputs": [],
   "source": [
    "caminfo_path = \"/media/papjuli/Data/data/3DV_project/STPLS3D/Source_Images/Real_World/WMSC_CamInfoCC.xml\"\n"
   ]
  },
  {
   "cell_type": "code",
   "execution_count": 7,
   "id": "5efd32e3-bfd0-4b6b-ad16-2d44766bf0eb",
   "metadata": {},
   "outputs": [],
   "source": [
    "intrinsic_matrix, poses_for_images, width, height = BlocksExchange_xml_parser.parse_xml(caminfo_path)"
   ]
  },
  {
   "cell_type": "code",
   "execution_count": 8,
   "id": "a419b939-c5e5-4839-bab6-f5043dd6b0ce",
   "metadata": {},
   "outputs": [
    {
     "data": {
      "text/plain": [
       "array([[3633, 0, 2437],\n",
       "       [0, 3633, 1838],\n",
       "       [0, 0, 1]])"
      ]
     },
     "execution_count": 8,
     "metadata": {},
     "output_type": "execute_result"
    }
   ],
   "source": [
    "intrinsic_matrix"
   ]
  },
  {
   "cell_type": "code",
   "execution_count": 9,
   "id": "3c744ad3-e4d1-4bea-ad67-e758b9a48df6",
   "metadata": {},
   "outputs": [],
   "source": [
    "from instance_masks_from_images.scene import Camera, Scene"
   ]
  },
  {
   "cell_type": "code",
   "execution_count": 10,
   "id": "f06a0ed7-c09b-4e2c-876a-40ee78111437",
   "metadata": {},
   "outputs": [],
   "source": [
    "camera = Camera(intrinsic_matrix, width, height)"
   ]
  },
  {
   "cell_type": "code",
   "execution_count": 11,
   "id": "fd7b1d2d-3464-47da-9b17-4018ef5426c4",
   "metadata": {},
   "outputs": [
    {
     "data": {
      "text/plain": [
       "(4864, 3648)"
      ]
     },
     "execution_count": 11,
     "metadata": {},
     "output_type": "execute_result"
    }
   ],
   "source": [
    "resolution = (width, height)\n",
    "resolution"
   ]
  },
  {
   "cell_type": "code",
   "execution_count": 12,
   "id": "f00310ed-f3bd-4970-ad0a-ba24b29d5132",
   "metadata": {},
   "outputs": [],
   "source": [
    "image_name = \"DJI_0859.JPG\"\n",
    "\n",
    "rot, pos = poses_for_images[image_name]"
   ]
  },
  {
   "cell_type": "code",
   "execution_count": 14,
   "id": "e7c56420-af16-4520-af98-c4842a3cb409",
   "metadata": {},
   "outputs": [
    {
     "data": {
      "text/plain": [
       "array([[0.4274, -0.904, -0.01106, -30.31],\n",
       "       [-0.6441, -0.2959, -0.7054, 55.03],\n",
       "       [0.6344, 0.3086, -0.7088, -71.84],\n",
       "       [0, 0, 0, 1]])"
      ]
     },
     "execution_count": 14,
     "metadata": {},
     "output_type": "execute_result"
    }
   ],
   "source": [
    "extrinsic = get_extrinsic_matrix(rot, pos)\n",
    "extrinsic"
   ]
  },
  {
   "cell_type": "code",
   "execution_count": 15,
   "id": "244a7180-5a9b-4904-a1d5-c00e37cf0beb",
   "metadata": {},
   "outputs": [],
   "source": [
    "\n",
    "camera_lines = o3d.geometry.LineSet.create_camera_visualization(\n",
    "    view_width_px=resolution[0], view_height_px=resolution[1], \n",
    "    intrinsic=camera.intrinsic_matrix.copy(), \n",
    "    extrinsic=extrinsic,\n",
    "    scale=20)"
   ]
  },
  {
   "cell_type": "code",
   "execution_count": 16,
   "id": "ccc355fc-c4db-4c74-b2fd-05b22fb41a0c",
   "metadata": {},
   "outputs": [
    {
     "data": {
      "text/plain": [
       "TriangleMesh with 4 points and 4 triangles."
      ]
     },
     "execution_count": 16,
     "metadata": {},
     "output_type": "execute_result"
    }
   ],
   "source": [
    "marker = o3d.geometry.TriangleMesh.create_tetrahedron()\n",
    "marker.translate(pos)\n",
    "marker.paint_uniform_color([1, 0, 0])"
   ]
  },
  {
   "cell_type": "code",
   "execution_count": 17,
   "id": "e9cb36c8-b6e8-49c1-820e-9fc4b0840e34",
   "metadata": {},
   "outputs": [],
   "source": [
    "class Config:\n",
    "    def __init__(self, point_cloud_path, cam_info_path, images_dir, mesh_path, visibility_threshold):\n",
    "        self.point_cloud_path = point_cloud_path\n",
    "        self.cam_info_path = cam_info_path\n",
    "        self.images_dir = images_dir\n",
    "        self.mesh_path = mesh_path\n",
    "        self.visibility_threshold = visibility_threshold\n",
    "\n",
    "cfg = {\n",
    "    \"point_cloud_path\": \"/media/papjuli/Data/data/3DV_project/STPLS3D/point_clouds/RealWorldData/WMSC_points.ply\",\n",
    "    \"cam_info_path\": \"/media/papjuli/Data/data/3DV_project/STPLS3D/Source_Images/Real_World/WMSC_CamInfoCC.xml\",\n",
    "    \"images_dir\": \"/media/papjuli/Data/data/3DV_project/STPLS3D/Source_Images/Real_World/WMSC\",\n",
    "    \"mesh_path\": \"/media/papjuli/Data/data/3DV_project/processed/STPLS3D/mesh/WMSC.ply\",\n",
    "    \"visibility_threshold\": 0.98\n",
    "}\n",
    "cfg = Config(**cfg)\n",
    "\n",
    "scene = Scene(cfg)"
   ]
  },
  {
   "cell_type": "code",
   "execution_count": 18,
   "id": "7701dd5d-f2c3-43d3-89f4-902f38f3a3a6",
   "metadata": {},
   "outputs": [],
   "source": [
    "coord_frame = o3d.geometry.TriangleMesh.create_coordinate_frame(size=20.0)\n",
    "\n",
    "o3d.visualization.draw_geometries([scene.point_cloud, camera_lines, coord_frame, marker],\n",
    "                                  zoom=0.34,\n",
    "                                  front=[1, 0, 0.5],\n",
    "                                  lookat=[0, 0, 0],\n",
    "                                  up=[-0.5, 0, 1])"
   ]
  },
  {
   "cell_type": "code",
   "execution_count": 22,
   "id": "80c4f8c6-2e33-4ff7-861f-84ec290a429a",
   "metadata": {},
   "outputs": [],
   "source": [
    "mask_indices_path = \"/home/papjuli/code/ETH/3DV_project/CityMagic3D/outputs/instance_masks_from_images/2024-05-14_21-04-28/DJI_0027.JPG__mask_indices.npz\"\n",
    "\n",
    "mask_indices = np.load(mask_indices_path)\n",
    "mask_indices_ls = [mask_indices[k] for k in mask_indices]\n",
    "\n",
    "for mask in mask_indices_ls:\n",
    "    np.asarray(scene.point_cloud.colors)[mask,:] = (np.random.random(3) + np.asarray(scene.point_cloud.colors)[mask,:]) / 2\n",
    "\n"
   ]
  },
  {
   "cell_type": "code",
   "execution_count": 23,
   "id": "1b378818-1c03-450b-a143-4e83b0a4ea21",
   "metadata": {},
   "outputs": [],
   "source": [
    "\n",
    "o3d.visualization.draw_geometries([scene.point_cloud, camera_lines, coord_frame],\n",
    "                                  zoom=0.34,\n",
    "                                  front=[1, 0, 0.5],\n",
    "                                  lookat=[0, 0, 0],\n",
    "                                  up=[-0.5, 0, 1])"
   ]
  },
  {
   "cell_type": "code",
   "execution_count": null,
   "id": "0039f489-678d-4a01-bafa-91bbeb53234b",
   "metadata": {},
   "outputs": [],
   "source": []
  }
 ],
 "metadata": {
  "kernelspec": {
   "display_name": "Python 3 (ipykernel)",
   "language": "python",
   "name": "python3"
  },
  "language_info": {
   "codemirror_mode": {
    "name": "ipython",
    "version": 3
   },
   "file_extension": ".py",
   "mimetype": "text/x-python",
   "name": "python",
   "nbconvert_exporter": "python",
   "pygments_lexer": "ipython3",
   "version": "3.10.0"
  }
 },
 "nbformat": 4,
 "nbformat_minor": 5
}
